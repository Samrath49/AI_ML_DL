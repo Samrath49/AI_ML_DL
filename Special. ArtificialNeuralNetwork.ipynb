{
  "nbformat": 4,
  "nbformat_minor": 0,
  "metadata": {
    "colab": {
      "name": "Special. ArtificialNeuralNetwork.ipynb",
      "provenance": [],
      "authorship_tag": "ABX9TyOv67AcjLojEZOlulq+PN9e",
      "include_colab_link": true
    },
    "kernelspec": {
      "name": "python3",
      "display_name": "Python 3"
    }
  },
  "cells": [
    {
      "cell_type": "markdown",
      "metadata": {
        "id": "view-in-github",
        "colab_type": "text"
      },
      "source": [
        "<a href=\"https://colab.research.google.com/github/Samrath49/AI_ML_DL/blob/main/Special.%20ArtificialNeuralNetwork.ipynb\" target=\"_parent\"><img src=\"https://colab.research.google.com/assets/colab-badge.svg\" alt=\"Open In Colab\"/></a>"
      ]
    },
    {
      "cell_type": "markdown",
      "metadata": {
        "id": "VyqjJBHJ9W20"
      },
      "source": [
        "# Artificial Neural Network"
      ]
    },
    {
      "cell_type": "markdown",
      "metadata": {
        "id": "_d2HOWoj9aes"
      },
      "source": [
        "### Importing the libraries"
      ]
    },
    {
      "cell_type": "code",
      "metadata": {
        "id": "M6LW7-YdDgso"
      },
      "source": [
        "import numpy as np\r\n",
        "import pandas as pd\r\n",
        "import matplotlib.pyplot as plt\r\n",
        "import tensorflow as tf"
      ],
      "execution_count": 4,
      "outputs": []
    },
    {
      "cell_type": "code",
      "metadata": {
        "colab": {
          "base_uri": "https://localhost:8080/",
          "height": 35
        },
        "id": "w5huAQPQD25n",
        "outputId": "58c1f111-508b-4dd6-f173-18cd9b7ac0f9"
      },
      "source": [
        "tf.__version__"
      ],
      "execution_count": 5,
      "outputs": [
        {
          "output_type": "execute_result",
          "data": {
            "application/vnd.google.colaboratory.intrinsic+json": {
              "type": "string"
            },
            "text/plain": [
              "'2.4.1'"
            ]
          },
          "metadata": {
            "tags": []
          },
          "execution_count": 5
        }
      ]
    },
    {
      "cell_type": "markdown",
      "metadata": {
        "id": "UkvLJvQl9aci"
      },
      "source": [
        "## Part 1 - Data Preprocessing"
      ]
    },
    {
      "cell_type": "markdown",
      "metadata": {
        "id": "mMnQ6xZx9aaL"
      },
      "source": [
        "### Importing Dataset"
      ]
    },
    {
      "cell_type": "code",
      "metadata": {
        "id": "hP9GrPXHDqF4"
      },
      "source": [
        "dataset = pd.read_excel('Folds5x2_pp.xlsx')\r\n",
        "X = dataset.iloc[:, :-1].values\r\n",
        "y = dataset.iloc[:, -1].values"
      ],
      "execution_count": 6,
      "outputs": []
    },
    {
      "cell_type": "code",
      "metadata": {
        "colab": {
          "base_uri": "https://localhost:8080/"
        },
        "id": "g5Igw734LRp1",
        "outputId": "257590bf-c9fe-4771-b6fe-fe50b998e96e"
      },
      "source": [
        "print(X)\r\n",
        "print(y)"
      ],
      "execution_count": 7,
      "outputs": [
        {
          "output_type": "stream",
          "text": [
            "[[  14.96   41.76 1024.07   73.17]\n",
            " [  25.18   62.96 1020.04   59.08]\n",
            " [   5.11   39.4  1012.16   92.14]\n",
            " ...\n",
            " [  31.32   74.33 1012.92   36.48]\n",
            " [  24.48   69.45 1013.86   62.39]\n",
            " [  21.6    62.52 1017.23   67.87]]\n",
            "[463.26 444.37 488.56 ... 429.57 435.74 453.28]\n"
          ],
          "name": "stdout"
        }
      ]
    },
    {
      "cell_type": "markdown",
      "metadata": {
        "id": "Vi9yAutp9aXS"
      },
      "source": [
        "### Splitting the dataset into Training and Test set"
      ]
    },
    {
      "cell_type": "code",
      "metadata": {
        "id": "2kEVRfyZLYVM"
      },
      "source": [
        "from sklearn.model_selection import train_test_split\r\n",
        "X_train, X_test, y_train, y_test = train_test_split(X, y, test_size = 0.2, random_state = 000)"
      ],
      "execution_count": 8,
      "outputs": []
    },
    {
      "cell_type": "markdown",
      "metadata": {
        "id": "X0Y9aRc49aUj"
      },
      "source": [
        "## Part 2 - Building the ANN"
      ]
    },
    {
      "cell_type": "markdown",
      "metadata": {
        "id": "A7SA_HSr9aRz"
      },
      "source": [
        "### Initializing the ANN"
      ]
    },
    {
      "cell_type": "code",
      "metadata": {
        "id": "V7VnrJ9GLnQE"
      },
      "source": [
        "ann = tf.keras.models.Sequential()"
      ],
      "execution_count": 20,
      "outputs": []
    },
    {
      "cell_type": "markdown",
      "metadata": {
        "id": "N9_Zyb2L9aOt"
      },
      "source": [
        "### Adding the input layer and the first hidden layer"
      ]
    },
    {
      "cell_type": "code",
      "metadata": {
        "id": "My_FJ7THMkr9"
      },
      "source": [
        "ann.add(tf.keras.layers.Dense(units = 6, activation = 'relu'))"
      ],
      "execution_count": 21,
      "outputs": []
    },
    {
      "cell_type": "markdown",
      "metadata": {
        "id": "8OOyvDsW9aL1"
      },
      "source": [
        "### Adding second hidden layer"
      ]
    },
    {
      "cell_type": "code",
      "metadata": {
        "id": "941NRv_sMlBk"
      },
      "source": [
        "ann.add(tf.keras.layers.Dense(units = 6, activation = 'relu'))"
      ],
      "execution_count": 22,
      "outputs": []
    },
    {
      "cell_type": "markdown",
      "metadata": {
        "id": "eM42JIc09aJL"
      },
      "source": [
        "### Adding the output layer"
      ]
    },
    {
      "cell_type": "code",
      "metadata": {
        "id": "IQrKcHviMle0"
      },
      "source": [
        "ann.add(tf.keras.layers.Dense(units = 1))\r\n",
        "# If classification with 2 prediction values use sigmoid\r\n",
        "# If classification with more than 2 prediction values then we use softmax\r\n",
        "# If we are predicting single continuous value i.e. regression then we chose none"
      ],
      "execution_count": 23,
      "outputs": []
    },
    {
      "cell_type": "markdown",
      "metadata": {
        "id": "aiz2Uh1c9aGs"
      },
      "source": [
        "### Compiling the ANN"
      ]
    },
    {
      "cell_type": "code",
      "metadata": {
        "id": "v_niVv-wMlw0"
      },
      "source": [
        "ann.compile(optimizer = 'adam', loss = 'mean_squared_error')"
      ],
      "execution_count": 24,
      "outputs": []
    },
    {
      "cell_type": "markdown",
      "metadata": {
        "id": "VsWt85iI9aEP"
      },
      "source": [
        "## Part 3 - Training the ANN"
      ]
    },
    {
      "cell_type": "markdown",
      "metadata": {
        "id": "MojbPSQ-9aBK"
      },
      "source": [
        "### Training the ANN model on the Training set"
      ]
    },
    {
      "cell_type": "code",
      "metadata": {
        "id": "J2ZWUlOlMmTE",
        "colab": {
          "base_uri": "https://localhost:8080/"
        },
        "outputId": "8ca67445-6329-445b-d315-d28d1a8a4e0a"
      },
      "source": [
        "ann.fit(X_train, y_train, batch_size = 32, epochs = 100)"
      ],
      "execution_count": 25,
      "outputs": [
        {
          "output_type": "stream",
          "text": [
            "Epoch 1/100\n",
            "240/240 [==============================] - 1s 855us/step - loss: 80112.6757\n",
            "Epoch 2/100\n",
            "240/240 [==============================] - 0s 907us/step - loss: 480.9801\n",
            "Epoch 3/100\n",
            "240/240 [==============================] - 0s 900us/step - loss: 473.9139\n",
            "Epoch 4/100\n",
            "240/240 [==============================] - 0s 950us/step - loss: 431.5618\n",
            "Epoch 5/100\n",
            "240/240 [==============================] - 0s 916us/step - loss: 401.0530\n",
            "Epoch 6/100\n",
            "240/240 [==============================] - 0s 901us/step - loss: 367.7622\n",
            "Epoch 7/100\n",
            "240/240 [==============================] - 0s 905us/step - loss: 327.9475\n",
            "Epoch 8/100\n",
            "240/240 [==============================] - 0s 909us/step - loss: 292.2567\n",
            "Epoch 9/100\n",
            "240/240 [==============================] - 0s 969us/step - loss: 249.1952\n",
            "Epoch 10/100\n",
            "240/240 [==============================] - 0s 814us/step - loss: 218.5664\n",
            "Epoch 11/100\n",
            "240/240 [==============================] - 0s 969us/step - loss: 180.8399\n",
            "Epoch 12/100\n",
            "240/240 [==============================] - 0s 981us/step - loss: 147.2761\n",
            "Epoch 13/100\n",
            "240/240 [==============================] - 0s 988us/step - loss: 122.6027\n",
            "Epoch 14/100\n",
            "240/240 [==============================] - 0s 982us/step - loss: 96.2817\n",
            "Epoch 15/100\n",
            "240/240 [==============================] - 0s 1ms/step - loss: 77.2206\n",
            "Epoch 16/100\n",
            "240/240 [==============================] - 0s 987us/step - loss: 60.2857\n",
            "Epoch 17/100\n",
            "240/240 [==============================] - 0s 954us/step - loss: 47.3975\n",
            "Epoch 18/100\n",
            "240/240 [==============================] - 0s 965us/step - loss: 38.5114\n",
            "Epoch 19/100\n",
            "240/240 [==============================] - 0s 995us/step - loss: 34.6312\n",
            "Epoch 20/100\n",
            "240/240 [==============================] - 0s 942us/step - loss: 30.4352\n",
            "Epoch 21/100\n",
            "240/240 [==============================] - 0s 1ms/step - loss: 29.7092\n",
            "Epoch 22/100\n",
            "240/240 [==============================] - 0s 1ms/step - loss: 29.8950\n",
            "Epoch 23/100\n",
            "240/240 [==============================] - 0s 966us/step - loss: 28.7915\n",
            "Epoch 24/100\n",
            "240/240 [==============================] - 0s 913us/step - loss: 28.0345\n",
            "Epoch 25/100\n",
            "240/240 [==============================] - 0s 987us/step - loss: 27.5395\n",
            "Epoch 26/100\n",
            "240/240 [==============================] - 0s 950us/step - loss: 27.9521\n",
            "Epoch 27/100\n",
            "240/240 [==============================] - 0s 974us/step - loss: 28.3008\n",
            "Epoch 28/100\n",
            "240/240 [==============================] - 0s 1ms/step - loss: 27.7326\n",
            "Epoch 29/100\n",
            "240/240 [==============================] - 0s 971us/step - loss: 27.5042\n",
            "Epoch 30/100\n",
            "240/240 [==============================] - 0s 1ms/step - loss: 28.0994\n",
            "Epoch 31/100\n",
            "240/240 [==============================] - 0s 895us/step - loss: 27.2408\n",
            "Epoch 32/100\n",
            "240/240 [==============================] - 0s 973us/step - loss: 27.2087\n",
            "Epoch 33/100\n",
            "240/240 [==============================] - 0s 1ms/step - loss: 27.7599\n",
            "Epoch 34/100\n",
            "240/240 [==============================] - 0s 1ms/step - loss: 26.5743\n",
            "Epoch 35/100\n",
            "240/240 [==============================] - 0s 1ms/step - loss: 26.6658\n",
            "Epoch 36/100\n",
            "240/240 [==============================] - 0s 1ms/step - loss: 25.9340\n",
            "Epoch 37/100\n",
            "240/240 [==============================] - 0s 1ms/step - loss: 27.7810\n",
            "Epoch 38/100\n",
            "240/240 [==============================] - 0s 1ms/step - loss: 27.8130\n",
            "Epoch 39/100\n",
            "240/240 [==============================] - 0s 1ms/step - loss: 27.5821\n",
            "Epoch 40/100\n",
            "240/240 [==============================] - 0s 920us/step - loss: 26.4021\n",
            "Epoch 41/100\n",
            "240/240 [==============================] - 0s 981us/step - loss: 27.0346\n",
            "Epoch 42/100\n",
            "240/240 [==============================] - 0s 947us/step - loss: 29.4141\n",
            "Epoch 43/100\n",
            "240/240 [==============================] - 0s 922us/step - loss: 26.7878\n",
            "Epoch 44/100\n",
            "240/240 [==============================] - 0s 963us/step - loss: 27.1657\n",
            "Epoch 45/100\n",
            "240/240 [==============================] - 0s 988us/step - loss: 26.3943\n",
            "Epoch 46/100\n",
            "240/240 [==============================] - 0s 835us/step - loss: 27.1956\n",
            "Epoch 47/100\n",
            "240/240 [==============================] - 0s 956us/step - loss: 29.0324\n",
            "Epoch 48/100\n",
            "240/240 [==============================] - 0s 1ms/step - loss: 27.3922\n",
            "Epoch 49/100\n",
            "240/240 [==============================] - 0s 1ms/step - loss: 25.8469\n",
            "Epoch 50/100\n",
            "240/240 [==============================] - 0s 957us/step - loss: 26.8766\n",
            "Epoch 51/100\n",
            "240/240 [==============================] - 0s 991us/step - loss: 26.8062\n",
            "Epoch 52/100\n",
            "240/240 [==============================] - 0s 992us/step - loss: 26.6555\n",
            "Epoch 53/100\n",
            "240/240 [==============================] - 0s 963us/step - loss: 27.0157\n",
            "Epoch 54/100\n",
            "240/240 [==============================] - 0s 1ms/step - loss: 26.9905\n",
            "Epoch 55/100\n",
            "240/240 [==============================] - 0s 1ms/step - loss: 26.1891\n",
            "Epoch 56/100\n",
            "240/240 [==============================] - 0s 963us/step - loss: 26.6029\n",
            "Epoch 57/100\n",
            "240/240 [==============================] - 0s 1ms/step - loss: 26.3961\n",
            "Epoch 58/100\n",
            "240/240 [==============================] - 0s 1ms/step - loss: 27.0965\n",
            "Epoch 59/100\n",
            "240/240 [==============================] - 0s 1ms/step - loss: 26.3207\n",
            "Epoch 60/100\n",
            "240/240 [==============================] - 0s 987us/step - loss: 25.9892\n",
            "Epoch 61/100\n",
            "240/240 [==============================] - 0s 1ms/step - loss: 27.1433\n",
            "Epoch 62/100\n",
            "240/240 [==============================] - 0s 940us/step - loss: 26.6102\n",
            "Epoch 63/100\n",
            "240/240 [==============================] - 0s 940us/step - loss: 27.1410\n",
            "Epoch 64/100\n",
            "240/240 [==============================] - 0s 1ms/step - loss: 28.1804\n",
            "Epoch 65/100\n",
            "240/240 [==============================] - 0s 1ms/step - loss: 26.2518\n",
            "Epoch 66/100\n",
            "240/240 [==============================] - 0s 1ms/step - loss: 26.3201\n",
            "Epoch 67/100\n",
            "240/240 [==============================] - 0s 1ms/step - loss: 26.6295\n",
            "Epoch 68/100\n",
            "240/240 [==============================] - 0s 1ms/step - loss: 25.8878\n",
            "Epoch 69/100\n",
            "240/240 [==============================] - 0s 1ms/step - loss: 27.1407\n",
            "Epoch 70/100\n",
            "240/240 [==============================] - 0s 1ms/step - loss: 26.6049\n",
            "Epoch 71/100\n",
            "240/240 [==============================] - 0s 996us/step - loss: 28.4308\n",
            "Epoch 72/100\n",
            "240/240 [==============================] - 0s 968us/step - loss: 26.9622\n",
            "Epoch 73/100\n",
            "240/240 [==============================] - 0s 917us/step - loss: 26.7223\n",
            "Epoch 74/100\n",
            "240/240 [==============================] - 0s 961us/step - loss: 25.9428\n",
            "Epoch 75/100\n",
            "240/240 [==============================] - 0s 1ms/step - loss: 27.1145\n",
            "Epoch 76/100\n",
            "240/240 [==============================] - 0s 1ms/step - loss: 25.8618\n",
            "Epoch 77/100\n",
            "240/240 [==============================] - 0s 852us/step - loss: 26.1128\n",
            "Epoch 78/100\n",
            "240/240 [==============================] - 0s 988us/step - loss: 26.2137\n",
            "Epoch 79/100\n",
            "240/240 [==============================] - 0s 982us/step - loss: 26.4967\n",
            "Epoch 80/100\n",
            "240/240 [==============================] - 0s 937us/step - loss: 28.8495\n",
            "Epoch 81/100\n",
            "240/240 [==============================] - 0s 1ms/step - loss: 25.7110\n",
            "Epoch 82/100\n",
            "240/240 [==============================] - 0s 1ms/step - loss: 25.5902\n",
            "Epoch 83/100\n",
            "240/240 [==============================] - 0s 1ms/step - loss: 27.0969\n",
            "Epoch 84/100\n",
            "240/240 [==============================] - 0s 1ms/step - loss: 26.4859\n",
            "Epoch 85/100\n",
            "240/240 [==============================] - 0s 1ms/step - loss: 26.8198\n",
            "Epoch 86/100\n",
            "240/240 [==============================] - 0s 1ms/step - loss: 26.9367\n",
            "Epoch 87/100\n",
            "240/240 [==============================] - 0s 990us/step - loss: 27.4370\n",
            "Epoch 88/100\n",
            "240/240 [==============================] - 0s 1ms/step - loss: 27.2668\n",
            "Epoch 89/100\n",
            "240/240 [==============================] - 0s 1ms/step - loss: 26.2188\n",
            "Epoch 90/100\n",
            "240/240 [==============================] - 0s 1ms/step - loss: 26.0897\n",
            "Epoch 91/100\n",
            "240/240 [==============================] - 0s 1ms/step - loss: 26.5662\n",
            "Epoch 92/100\n",
            "240/240 [==============================] - 0s 997us/step - loss: 25.8838\n",
            "Epoch 93/100\n",
            "240/240 [==============================] - 0s 1ms/step - loss: 26.9654\n",
            "Epoch 94/100\n",
            "240/240 [==============================] - 0s 1ms/step - loss: 26.9908\n",
            "Epoch 95/100\n",
            "240/240 [==============================] - 0s 1ms/step - loss: 26.9793\n",
            "Epoch 96/100\n",
            "240/240 [==============================] - 0s 956us/step - loss: 25.8364\n",
            "Epoch 97/100\n",
            "240/240 [==============================] - 0s 1ms/step - loss: 26.7011\n",
            "Epoch 98/100\n",
            "240/240 [==============================] - 0s 1ms/step - loss: 26.6995\n",
            "Epoch 99/100\n",
            "240/240 [==============================] - 0s 1ms/step - loss: 27.8851\n",
            "Epoch 100/100\n",
            "240/240 [==============================] - 0s 1ms/step - loss: 27.3685\n"
          ],
          "name": "stdout"
        },
        {
          "output_type": "execute_result",
          "data": {
            "text/plain": [
              "<tensorflow.python.keras.callbacks.History at 0x7fa7763d7510>"
            ]
          },
          "metadata": {
            "tags": []
          },
          "execution_count": 25
        }
      ]
    },
    {
      "cell_type": "markdown",
      "metadata": {
        "id": "RFiguH7p9Z-j"
      },
      "source": [
        "### Predicting the results of the Test set"
      ]
    },
    {
      "cell_type": "code",
      "metadata": {
        "id": "iGd4fCzFMmsE",
        "colab": {
          "base_uri": "https://localhost:8080/"
        },
        "outputId": "90895ddc-5ed9-4185-a9ac-a72f20b0f209"
      },
      "source": [
        "y_pred = ann.predict(X_test)\r\n",
        "np.set_printoptions(precision=2)\r\n",
        "print(np.concatenate((y_pred.reshape(len(y_pred), 1), y_test.reshape(len(y_test), 1)), 1))"
      ],
      "execution_count": 27,
      "outputs": [
        {
          "output_type": "stream",
          "text": [
            "[[430.05 431.23]\n",
            " [461.11 460.01]\n",
            " [464.61 461.14]\n",
            " ...\n",
            " [471.87 473.26]\n",
            " [438.6  438.  ]\n",
            " [457.86 463.28]]\n"
          ],
          "name": "stdout"
        }
      ]
    }
  ]
}