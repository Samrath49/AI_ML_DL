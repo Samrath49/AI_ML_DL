{
  "nbformat": 4,
  "nbformat_minor": 0,
  "metadata": {
    "colab": {
      "name": "24. CNN.ipynb",
      "provenance": [],
      "include_colab_link": true
    },
    "kernelspec": {
      "display_name": "Python 3",
      "language": "python",
      "name": "python3"
    },
    "language_info": {
      "codemirror_mode": {
        "name": "ipython",
        "version": 3
      },
      "file_extension": ".py",
      "mimetype": "text/x-python",
      "name": "python",
      "nbconvert_exporter": "python",
      "pygments_lexer": "ipython3",
      "version": "3.8.3"
    }
  },
  "cells": [
    {
      "cell_type": "markdown",
      "metadata": {
        "id": "view-in-github",
        "colab_type": "text"
      },
      "source": [
        "<a href=\"https://colab.research.google.com/github/Samrath49/AI_ML_DL/blob/main/24.%20CNN.ipynb\" target=\"_parent\"><img src=\"https://colab.research.google.com/assets/colab-badge.svg\" alt=\"Open In Colab\"/></a>"
      ]
    },
    {
      "cell_type": "markdown",
      "metadata": {
        "id": "9He4f_jVpel4"
      },
      "source": [
        "# Convolutional Neural Network"
      ]
    },
    {
      "cell_type": "markdown",
      "metadata": {
        "id": "tBzvHwD04vVf"
      },
      "source": [
        "### Importing the libraries"
      ]
    },
    {
      "cell_type": "code",
      "metadata": {
        "id": "-7VPILk3YWOO"
      },
      "source": [
        "import tensorflow as tf\n",
        "from keras.preprocessing.image import ImageDataGenerator"
      ],
      "execution_count": null,
      "outputs": []
    },
    {
      "cell_type": "code",
      "metadata": {
        "colab": {
          "base_uri": "https://localhost:8080/",
          "height": 35
        },
        "id": "_T7GVPmWYh2Y",
        "outputId": "93139105-5af6-43cd-ec38-a4f795234596"
      },
      "source": [
        "tf.__version__"
      ],
      "execution_count": null,
      "outputs": [
        {
          "output_type": "execute_result",
          "data": {
            "text/plain": [
              "'2.3.1'"
            ]
          },
          "metadata": {
            "tags": []
          },
          "execution_count": 2
        }
      ]
    },
    {
      "cell_type": "markdown",
      "metadata": {
        "id": "ECiBWrIq4ydf"
      },
      "source": [
        "### Part 1 - Data Preprocessing"
      ]
    },
    {
      "cell_type": "markdown",
      "metadata": {
        "id": "c92qYSlo41Tv"
      },
      "source": [
        "#### Preprocessing the Training Set"
      ]
    },
    {
      "cell_type": "code",
      "metadata": {
        "id": "5qDg789WYnnq",
        "outputId": "ec0faccf-e8fb-4312-a6f6-82d02f0b34e8"
      },
      "source": [
        "train_datagen = ImageDataGenerator(\n",
        "    rescale = 1./255,\n",
        "    shear_range = 0.2,\n",
        "    zoom_range = 0.2,\n",
        "    horizontal_flip = True)\n",
        "training_set = train_datagen.flow_from_directory(\n",
        "    'dataset/training_set',\n",
        "    target_size = (64, 64),\n",
        "    batch_size = 32,\n",
        "    class_mode = 'binary')"
      ],
      "execution_count": null,
      "outputs": [
        {
          "output_type": "stream",
          "text": [
            "Found 8000 images belonging to 2 classes.\n"
          ],
          "name": "stdout"
        }
      ]
    },
    {
      "cell_type": "markdown",
      "metadata": {
        "id": "sBQKWEA245ug"
      },
      "source": [
        "#### Preprocessing the Test set"
      ]
    },
    {
      "cell_type": "code",
      "metadata": {
        "id": "-zKefFjAYoKS",
        "outputId": "e216be28-5373-47b1-c53e-c21b0926e96c"
      },
      "source": [
        "test_datagen = ImageDataGenerator(rescale = 1./255)\n",
        "test_set = test_datagen.flow_from_directory(\n",
        "    'dataset/test_set',\n",
        "    target_size = (64,64),\n",
        "    batch_size = 32,\n",
        "    class_mode = 'binary')"
      ],
      "execution_count": null,
      "outputs": [
        {
          "output_type": "stream",
          "text": [
            "Found 2000 images belonging to 2 classes.\n"
          ],
          "name": "stdout"
        }
      ]
    },
    {
      "cell_type": "markdown",
      "metadata": {
        "id": "kLNbrtRM49af"
      },
      "source": [
        "### Part 2 - Building the CNN"
      ]
    },
    {
      "cell_type": "markdown",
      "metadata": {
        "id": "YTQ14UwD5AXP"
      },
      "source": [
        "#### Initialising the CNN"
      ]
    },
    {
      "cell_type": "code",
      "metadata": {
        "id": "l0aU0NraYonL"
      },
      "source": [
        "cnn = tf.keras.models.Sequential()"
      ],
      "execution_count": null,
      "outputs": []
    },
    {
      "cell_type": "markdown",
      "metadata": {
        "id": "CxHj_Dau5Dgn"
      },
      "source": [
        "#### Step 1 - Convolution"
      ]
    },
    {
      "cell_type": "code",
      "metadata": {
        "id": "F7Gc8KytYo7A"
      },
      "source": [
        "cnn.add(tf.keras.layers.Conv2D(filters=32, kernel_size= 3, activation= 'relu', input_shape = [64, 64, 3]))"
      ],
      "execution_count": null,
      "outputs": []
    },
    {
      "cell_type": "markdown",
      "metadata": {
        "id": "GR3p_R1f5Hz3"
      },
      "source": [
        "#### Step 2 - Pooling"
      ]
    },
    {
      "cell_type": "code",
      "metadata": {
        "id": "27CNu7mWYpN8"
      },
      "source": [
        "cnn.add(tf.keras.layers.MaxPool2D(pool_size = 2, strides = 2))"
      ],
      "execution_count": null,
      "outputs": []
    },
    {
      "cell_type": "markdown",
      "metadata": {
        "id": "TeaiEv9M5Kka"
      },
      "source": [
        "#### Adding second convolutional layer"
      ]
    },
    {
      "cell_type": "code",
      "metadata": {
        "id": "5hLmY1_PYpta"
      },
      "source": [
        "cnn.add(tf.keras.layers.Conv2D(filters=32, kernel_size= 3, activation= 'relu'))\n",
        "cnn.add(tf.keras.layers.MaxPool2D(pool_size = 2, strides = 2))"
      ],
      "execution_count": null,
      "outputs": []
    },
    {
      "cell_type": "markdown",
      "metadata": {
        "id": "mmQ17aCi5QgI"
      },
      "source": [
        "#### Step 3 - Flattening"
      ]
    },
    {
      "cell_type": "code",
      "metadata": {
        "id": "ph2sQbFwYp_p"
      },
      "source": [
        "cnn.add(tf.keras.layers.Flatten())"
      ],
      "execution_count": null,
      "outputs": []
    },
    {
      "cell_type": "markdown",
      "metadata": {
        "id": "wQmfG-HW5Vwe"
      },
      "source": [
        "#### Step 4 - Full Connection"
      ]
    },
    {
      "cell_type": "code",
      "metadata": {
        "id": "DYPT8P2fYqXh"
      },
      "source": [
        "cnn.add(tf.keras.layers.Dense(units = 128, activation = 'relu'))"
      ],
      "execution_count": null,
      "outputs": []
    },
    {
      "cell_type": "markdown",
      "metadata": {
        "id": "pGZpuHtO5Y_2"
      },
      "source": [
        "#### Step 5 - Output Layer"
      ]
    },
    {
      "cell_type": "code",
      "metadata": {
        "id": "oEom4Ek5Yqup"
      },
      "source": [
        "cnn.add(tf.keras.layers.Dense(units = 1, activation = 'sigmoid'))"
      ],
      "execution_count": null,
      "outputs": []
    },
    {
      "cell_type": "markdown",
      "metadata": {
        "id": "n358bs0n5b1G"
      },
      "source": [
        "### Part 3 - Training the CNN"
      ]
    },
    {
      "cell_type": "markdown",
      "metadata": {
        "id": "KRMPGfp_5g8f"
      },
      "source": [
        "#### Compiling the CNN"
      ]
    },
    {
      "cell_type": "code",
      "metadata": {
        "id": "or7cLUm1YrPJ"
      },
      "source": [
        "cnn.compile(optimizer = 'adam', loss = 'binary_crossentropy', metrics = ['accuracy'])"
      ],
      "execution_count": null,
      "outputs": []
    },
    {
      "cell_type": "markdown",
      "metadata": {
        "id": "vvxbYcQo5kqY"
      },
      "source": [
        "#### Training the CNN on the Training set and evaluating on the Test set"
      ]
    },
    {
      "cell_type": "code",
      "metadata": {
        "id": "m4GvdDIrYrlB",
        "outputId": "965c80ce-7581-42a5-8ba9-af4f3a014817"
      },
      "source": [
        "cnn.fit(x = training_set, validation_data = test_set, epochs = 25)"
      ],
      "execution_count": null,
      "outputs": [
        {
          "output_type": "stream",
          "text": [
            "Epoch 1/25\n",
            "250/250 [==============================] - 78s 313ms/step - loss: 0.6681 - accuracy: 0.5775 - val_loss: 0.6089 - val_accuracy: 0.6795\n",
            "Epoch 2/25\n",
            "250/250 [==============================] - 56s 225ms/step - loss: 0.5922 - accuracy: 0.6848 - val_loss: 0.5642 - val_accuracy: 0.7080\n",
            "Epoch 3/25\n",
            "250/250 [==============================] - 49s 198ms/step - loss: 0.5473 - accuracy: 0.7211 - val_loss: 0.5534 - val_accuracy: 0.7145\n",
            "Epoch 4/25\n",
            "250/250 [==============================] - 47s 190ms/step - loss: 0.5115 - accuracy: 0.7433 - val_loss: 0.4840 - val_accuracy: 0.7650\n",
            "Epoch 5/25\n",
            "250/250 [==============================] - 59s 236ms/step - loss: 0.4815 - accuracy: 0.7713 - val_loss: 0.4966 - val_accuracy: 0.7640\n",
            "Epoch 6/25\n",
            "250/250 [==============================] - 70s 280ms/step - loss: 0.4718 - accuracy: 0.7754 - val_loss: 0.4865 - val_accuracy: 0.7570\n",
            "Epoch 7/25\n",
            "250/250 [==============================] - 67s 268ms/step - loss: 0.4481 - accuracy: 0.7906 - val_loss: 0.4601 - val_accuracy: 0.7870\n",
            "Epoch 8/25\n",
            "250/250 [==============================] - 75s 299ms/step - loss: 0.4360 - accuracy: 0.7979 - val_loss: 0.5117 - val_accuracy: 0.7485\n",
            "Epoch 9/25\n",
            "250/250 [==============================] - 72s 287ms/step - loss: 0.4186 - accuracy: 0.8116 - val_loss: 0.4474 - val_accuracy: 0.8020\n",
            "Epoch 10/25\n",
            "250/250 [==============================] - 75s 302ms/step - loss: 0.4118 - accuracy: 0.8071 - val_loss: 0.4420 - val_accuracy: 0.7915\n",
            "Epoch 11/25\n",
            "250/250 [==============================] - 74s 296ms/step - loss: 0.3884 - accuracy: 0.8209 - val_loss: 0.4548 - val_accuracy: 0.8140\n",
            "Epoch 12/25\n",
            "250/250 [==============================] - 75s 301ms/step - loss: 0.3921 - accuracy: 0.8260 - val_loss: 0.4542 - val_accuracy: 0.7940\n",
            "Epoch 13/25\n",
            "250/250 [==============================] - 73s 293ms/step - loss: 0.3765 - accuracy: 0.8328 - val_loss: 0.4855 - val_accuracy: 0.7795\n",
            "Epoch 14/25\n",
            "250/250 [==============================] - 71s 285ms/step - loss: 0.3640 - accuracy: 0.8350 - val_loss: 0.4593 - val_accuracy: 0.7970\n",
            "Epoch 15/25\n",
            "250/250 [==============================] - 55s 220ms/step - loss: 0.3588 - accuracy: 0.8381 - val_loss: 0.4400 - val_accuracy: 0.8165\n",
            "Epoch 16/25\n",
            "250/250 [==============================] - 51s 203ms/step - loss: 0.3426 - accuracy: 0.8479 - val_loss: 0.4521 - val_accuracy: 0.8060\n",
            "Epoch 17/25\n",
            "250/250 [==============================] - 30s 120ms/step - loss: 0.3347 - accuracy: 0.8514 - val_loss: 0.4659 - val_accuracy: 0.8055\n",
            "Epoch 18/25\n",
            "250/250 [==============================] - 28s 111ms/step - loss: 0.3156 - accuracy: 0.8640 - val_loss: 0.4599 - val_accuracy: 0.8075\n",
            "Epoch 19/25\n",
            "250/250 [==============================] - 27s 107ms/step - loss: 0.3094 - accuracy: 0.8673 - val_loss: 0.4600 - val_accuracy: 0.8185\n",
            "Epoch 20/25\n",
            "250/250 [==============================] - 27s 108ms/step - loss: 0.2961 - accuracy: 0.8736 - val_loss: 0.4591 - val_accuracy: 0.8235ccuracy - ETA: 1s - loss: 0.2 - ETA: 0s - loss: 0.296\n",
            "Epoch 21/25\n",
            "250/250 [==============================] - 28s 112ms/step - loss: 0.2884 - accuracy: 0.8731 - val_loss: 0.4409 - val_accuracy: 0.8195\n",
            "Epoch 22/25\n",
            "250/250 [==============================] - 28s 111ms/step - loss: 0.2690 - accuracy: 0.8854 - val_loss: 0.4976 - val_accuracy: 0.8050s - loss: 0.2679 - \n",
            "Epoch 23/25\n",
            "250/250 [==============================] - 27s 109ms/step - loss: 0.2626 - accuracy: 0.8891 - val_loss: 0.5627 - val_accuracy: 0.7985\n",
            "Epoch 24/25\n",
            "250/250 [==============================] - 27s 109ms/step - loss: 0.2669 - accuracy: 0.8878 - val_loss: 0.4831 - val_accuracy: 0.8090\n",
            "Epoch 25/25\n",
            "250/250 [==============================] - 28s 110ms/step - loss: 0.2465 - accuracy: 0.8934 - val_loss: 0.5086 - val_accuracy: 0.8100\n"
          ],
          "name": "stdout"
        },
        {
          "output_type": "execute_result",
          "data": {
            "text/plain": [
              "<tensorflow.python.keras.callbacks.History at 0x22b5029f100>"
            ]
          },
          "metadata": {
            "tags": []
          },
          "execution_count": 19
        }
      ]
    },
    {
      "cell_type": "markdown",
      "metadata": {
        "id": "g39GETwS5vZn"
      },
      "source": [
        "### Part 4 - Making a single prediction"
      ]
    },
    {
      "cell_type": "code",
      "metadata": {
        "id": "g8y8KfDIYr2j",
        "outputId": "4b38d34c-13bf-444f-ce57-3014f84d9a34"
      },
      "source": [
        "import numpy as np\n",
        "from keras.preprocessing import image\n",
        "test_image = image.load_img( 'dataset/single_prediction/cat_or_dog_1.jpg', target_size = (64,64))\n",
        "test_image = image.img_to_array(test_image)\n",
        "test_image = np.expand_dims(test_image, axis = 0)\n",
        "result = cnn.predict(test_image)\n",
        "training_set.class_indices\n",
        "if result[0][0] == 1:\n",
        "  prediction = 'dog'\n",
        "else:\n",
        "  prediction = 'cat'\n",
        "print(prediction)"
      ],
      "execution_count": null,
      "outputs": [
        {
          "output_type": "stream",
          "text": [
            "dog\n"
          ],
          "name": "stdout"
        }
      ]
    },
    {
      "cell_type": "code",
      "metadata": {
        "colab": {
          "base_uri": "https://localhost:8080/",
          "height": 47
        },
        "id": "T_Q1gDCQq1cf",
        "outputId": "946d1aee-ddca-4480-ef9c-d4858a9d799a"
      },
      "source": [
        "%%html\r\n",
        "<marquee style='width: 90%; color: orange; font-size:150%;'><b>With 90% accuracy our CNN model was able to classify that the single image was of a dog</b></marquee>"
      ],
      "execution_count": 1,
      "outputs": [
        {
          "output_type": "display_data",
          "data": {
            "text/html": [
              "<marquee style='width: 90%; color: orange; font-size:150%;'><b>With 90% accuracy our CNN model was able to classify that the single image was of a dog</b></marquee>"
            ],
            "text/plain": [
              "<IPython.core.display.HTML object>"
            ]
          },
          "metadata": {
            "tags": []
          }
        }
      ]
    }
  ]
}