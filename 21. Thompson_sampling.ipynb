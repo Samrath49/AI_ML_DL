{
  "nbformat": 4,
  "nbformat_minor": 0,
  "metadata": {
    "colab": {
      "name": "21. Thompson_sampling.ipynb",
      "provenance": [],
      "authorship_tag": "ABX9TyOi6IRitneP5K8xoks+DYoq",
      "include_colab_link": true
    },
    "kernelspec": {
      "name": "python3",
      "display_name": "Python 3"
    }
  },
  "cells": [
    {
      "cell_type": "markdown",
      "metadata": {
        "id": "view-in-github",
        "colab_type": "text"
      },
      "source": [
        "<a href=\"https://colab.research.google.com/github/Samrath49/AI_ML_DL/blob/main/21.%20Thompson_sampling.ipynb\" target=\"_parent\"><img src=\"https://colab.research.google.com/assets/colab-badge.svg\" alt=\"Open In Colab\"/></a>"
      ]
    },
    {
      "cell_type": "markdown",
      "metadata": {
        "id": "FFnFy_iDahnZ"
      },
      "source": [
        "\r\n",
        "# Thompson Sampling to solve Multi-hand bandit problem\r\n",
        "\r\n",
        "Reinforcement Learning Type\r\n",
        "\r\n"
      ]
    },
    {
      "cell_type": "markdown",
      "metadata": {
        "id": "lVyMzP0VamG2"
      },
      "source": [
        "### Importing Libraries"
      ]
    },
    {
      "cell_type": "code",
      "metadata": {
        "id": "_I8ufnSAad29"
      },
      "source": [
        "import pandas as pd\r\n",
        "import numpy as np\r\n",
        "import matplotlib.pyplot as plt"
      ],
      "execution_count": 1,
      "outputs": []
    },
    {
      "cell_type": "markdown",
      "metadata": {
        "id": "V32PifyfapA9"
      },
      "source": [
        "### Importing Dataset"
      ]
    },
    {
      "cell_type": "code",
      "metadata": {
        "id": "8pmRxJr_avCy"
      },
      "source": [
        "dataset = pd.read_csv('Ads_CTR_Optimisation.csv')"
      ],
      "execution_count": 2,
      "outputs": []
    },
    {
      "cell_type": "markdown",
      "metadata": {
        "id": "1Z6G8Qb-axgs"
      },
      "source": [
        "### Implementing Thompson Sampling"
      ]
    },
    {
      "cell_type": "code",
      "metadata": {
        "id": "O9VyACKfavH_"
      },
      "source": [
        "import random\r\n",
        "N = 500\r\n",
        "d = 10\r\n",
        "ads_selected = []\r\n",
        "numbers_of_rewards_0 = [0] * d\r\n",
        "numbers_of_rewards_1 = [0] * d\r\n",
        "total_reward = 0\r\n",
        "for n in range(0,N):\r\n",
        "  ad = 0\r\n",
        "  max_random = 0\r\n",
        "  for i in range(0,d):\r\n",
        "      random_beta = random.betavariate(numbers_of_rewards_1[i] + 1, numbers_of_rewards_0[i] + 1)\r\n",
        "      if(random_beta > max_random):\r\n",
        "        max_random = random_beta\r\n",
        "        ad = i\r\n",
        "  ads_selected.append(ad)\r\n",
        "  reward = dataset.values[n, ad]\r\n",
        "  if reward == 1:\r\n",
        "    numbers_of_rewards_1[ad] = numbers_of_rewards_1[ad] + 1     \r\n",
        "  else:\r\n",
        "    numbers_of_rewards_0[ad] = numbers_of_rewards_0[ad] + 1 \r\n",
        "  total_reward = total_reward + 1"
      ],
      "execution_count": 25,
      "outputs": []
    },
    {
      "cell_type": "markdown",
      "metadata": {
        "id": "cGZLjRqjax46"
      },
      "source": [
        "### Visualising the resuts"
      ]
    },
    {
      "cell_type": "code",
      "metadata": {
        "colab": {
          "base_uri": "https://localhost:8080/",
          "height": 294
        },
        "id": "IOUQz786avS9",
        "outputId": "511dbbf6-5176-4bf5-80c1-9f82bf64965e"
      },
      "source": [
        "plt.hist(ads_selected)\r\n",
        "plt.title('Histogram of ads selections')\r\n",
        "plt.xlabel('Ads')\r\n",
        "plt.ylabel('Numbers of times each ad was selected')\r\n",
        "plt.show()"
      ],
      "execution_count": 26,
      "outputs": [
        {
          "output_type": "display_data",
          "data": {
            "image/png": "[encoded data removed]",
            "text/plain": [
              "<Figure size 432x288 with 1 Axes>"
            ]
          },
          "metadata": {
            "tags": [],
            "needs_background": "light"
          }
        }
      ]
    }
  ]
}